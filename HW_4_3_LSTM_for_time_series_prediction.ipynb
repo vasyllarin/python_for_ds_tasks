{
  "nbformat": 4,
  "nbformat_minor": 0,
  "metadata": {
    "colab": {
      "provenance": []
    },
    "kernelspec": {
      "name": "python3",
      "display_name": "Python 3"
    },
    "language_info": {
      "name": "python"
    }
  },
  "cells": [
    {
      "cell_type": "markdown",
      "source": [
        "Давайте подивимося, як LSTM можна використовувати для побудови нейронної мережі прогнозування часових.\n",
        "\n",
        "Будемо працювати з задачею прогнозування кількості пасажирів міжнародних авіаліній. З цим набором даних ми вже працювали в лекції \"Time Series Analysis\" і ви зможете порівняти результати :)\n",
        "\n",
        "Задача полягає в тому, щоб за заданими роком і місяцем передбачити кількість пасажирів міжнародних авіаліній в одиницях виміру 1,000. Дані охоплюють період з січня 1949 року по грудень 1960 року, тобто 12 років, зі 144 спостереженнями.\n",
        "\n",
        "Це регресійна задача. Тобто, знаючи кількість пасажирів (в тисячах) за останні місяці, можна передбачити, якою буде кількість пасажирів у наступному місяці. Набір даних має лише одну характеристику: \"Кількість пасажирів\" - `Passengers`.\n",
        "\n",
        "Далі вже наведений код для читання даних, але нам їх ще треба буде трошки обробити."
      ],
      "metadata": {
        "id": "QVNVsLwJvV9S"
      }
    },
    {
      "cell_type": "code",
      "execution_count": 1,
      "metadata": {
        "id": "hw3dGYsyluYm",
        "colab": {
          "base_uri": "https://localhost:8080/",
          "height": 237
        },
        "outputId": "d1acae3c-bd50-4de6-c871-d8861b8ebb67"
      },
      "outputs": [
        {
          "output_type": "display_data",
          "data": {
            "text/plain": [
              "         Passengers\n",
              "Month              \n",
              "1949-01         112\n",
              "1949-02         118\n",
              "1949-03         132\n",
              "1949-04         129\n",
              "1949-05         121"
            ],
            "text/html": [
              "\n",
              "  <div id=\"df-fca42ff1-6346-4bf0-9c2f-cf4b528be4eb\" class=\"colab-df-container\">\n",
              "    <div>\n",
              "<style scoped>\n",
              "    .dataframe tbody tr th:only-of-type {\n",
              "        vertical-align: middle;\n",
              "    }\n",
              "\n",
              "    .dataframe tbody tr th {\n",
              "        vertical-align: top;\n",
              "    }\n",
              "\n",
              "    .dataframe thead th {\n",
              "        text-align: right;\n",
              "    }\n",
              "</style>\n",
              "<table border=\"1\" class=\"dataframe\">\n",
              "  <thead>\n",
              "    <tr style=\"text-align: right;\">\n",
              "      <th></th>\n",
              "      <th>Passengers</th>\n",
              "    </tr>\n",
              "    <tr>\n",
              "      <th>Month</th>\n",
              "      <th></th>\n",
              "    </tr>\n",
              "  </thead>\n",
              "  <tbody>\n",
              "    <tr>\n",
              "      <th>1949-01</th>\n",
              "      <td>112</td>\n",
              "    </tr>\n",
              "    <tr>\n",
              "      <th>1949-02</th>\n",
              "      <td>118</td>\n",
              "    </tr>\n",
              "    <tr>\n",
              "      <th>1949-03</th>\n",
              "      <td>132</td>\n",
              "    </tr>\n",
              "    <tr>\n",
              "      <th>1949-04</th>\n",
              "      <td>129</td>\n",
              "    </tr>\n",
              "    <tr>\n",
              "      <th>1949-05</th>\n",
              "      <td>121</td>\n",
              "    </tr>\n",
              "  </tbody>\n",
              "</table>\n",
              "</div>\n",
              "    <div class=\"colab-df-buttons\">\n",
              "\n",
              "  <div class=\"colab-df-container\">\n",
              "    <button class=\"colab-df-convert\" onclick=\"convertToInteractive('df-fca42ff1-6346-4bf0-9c2f-cf4b528be4eb')\"\n",
              "            title=\"Convert this dataframe to an interactive table.\"\n",
              "            style=\"display:none;\">\n",
              "\n",
              "  <svg xmlns=\"http://www.w3.org/2000/svg\" height=\"24px\" viewBox=\"0 -960 960 960\">\n",
              "    <path d=\"M120-120v-720h720v720H120Zm60-500h600v-160H180v160Zm220 220h160v-160H400v160Zm0 220h160v-160H400v160ZM180-400h160v-160H180v160Zm440 0h160v-160H620v160ZM180-180h160v-160H180v160Zm440 0h160v-160H620v160Z\"/>\n",
              "  </svg>\n",
              "    </button>\n",
              "\n",
              "  <style>\n",
              "    .colab-df-container {\n",
              "      display:flex;\n",
              "      gap: 12px;\n",
              "    }\n",
              "\n",
              "    .colab-df-convert {\n",
              "      background-color: #E8F0FE;\n",
              "      border: none;\n",
              "      border-radius: 50%;\n",
              "      cursor: pointer;\n",
              "      display: none;\n",
              "      fill: #1967D2;\n",
              "      height: 32px;\n",
              "      padding: 0 0 0 0;\n",
              "      width: 32px;\n",
              "    }\n",
              "\n",
              "    .colab-df-convert:hover {\n",
              "      background-color: #E2EBFA;\n",
              "      box-shadow: 0px 1px 2px rgba(60, 64, 67, 0.3), 0px 1px 3px 1px rgba(60, 64, 67, 0.15);\n",
              "      fill: #174EA6;\n",
              "    }\n",
              "\n",
              "    .colab-df-buttons div {\n",
              "      margin-bottom: 4px;\n",
              "    }\n",
              "\n",
              "    [theme=dark] .colab-df-convert {\n",
              "      background-color: #3B4455;\n",
              "      fill: #D2E3FC;\n",
              "    }\n",
              "\n",
              "    [theme=dark] .colab-df-convert:hover {\n",
              "      background-color: #434B5C;\n",
              "      box-shadow: 0px 1px 3px 1px rgba(0, 0, 0, 0.15);\n",
              "      filter: drop-shadow(0px 1px 2px rgba(0, 0, 0, 0.3));\n",
              "      fill: #FFFFFF;\n",
              "    }\n",
              "  </style>\n",
              "\n",
              "    <script>\n",
              "      const buttonEl =\n",
              "        document.querySelector('#df-fca42ff1-6346-4bf0-9c2f-cf4b528be4eb button.colab-df-convert');\n",
              "      buttonEl.style.display =\n",
              "        google.colab.kernel.accessAllowed ? 'block' : 'none';\n",
              "\n",
              "      async function convertToInteractive(key) {\n",
              "        const element = document.querySelector('#df-fca42ff1-6346-4bf0-9c2f-cf4b528be4eb');\n",
              "        const dataTable =\n",
              "          await google.colab.kernel.invokeFunction('convertToInteractive',\n",
              "                                                    [key], {});\n",
              "        if (!dataTable) return;\n",
              "\n",
              "        const docLinkHtml = 'Like what you see? Visit the ' +\n",
              "          '<a target=\"_blank\" href=https://colab.research.google.com/notebooks/data_table.ipynb>data table notebook</a>'\n",
              "          + ' to learn more about interactive tables.';\n",
              "        element.innerHTML = '';\n",
              "        dataTable['output_type'] = 'display_data';\n",
              "        await google.colab.output.renderOutput(dataTable, element);\n",
              "        const docLink = document.createElement('div');\n",
              "        docLink.innerHTML = docLinkHtml;\n",
              "        element.appendChild(docLink);\n",
              "      }\n",
              "    </script>\n",
              "  </div>\n",
              "\n",
              "\n",
              "    <div id=\"df-369d73ec-6b38-45f2-910d-879f860bba6a\">\n",
              "      <button class=\"colab-df-quickchart\" onclick=\"quickchart('df-369d73ec-6b38-45f2-910d-879f860bba6a')\"\n",
              "                title=\"Suggest charts\"\n",
              "                style=\"display:none;\">\n",
              "\n",
              "<svg xmlns=\"http://www.w3.org/2000/svg\" height=\"24px\"viewBox=\"0 0 24 24\"\n",
              "     width=\"24px\">\n",
              "    <g>\n",
              "        <path d=\"M19 3H5c-1.1 0-2 .9-2 2v14c0 1.1.9 2 2 2h14c1.1 0 2-.9 2-2V5c0-1.1-.9-2-2-2zM9 17H7v-7h2v7zm4 0h-2V7h2v10zm4 0h-2v-4h2v4z\"/>\n",
              "    </g>\n",
              "</svg>\n",
              "      </button>\n",
              "\n",
              "<style>\n",
              "  .colab-df-quickchart {\n",
              "      --bg-color: #E8F0FE;\n",
              "      --fill-color: #1967D2;\n",
              "      --hover-bg-color: #E2EBFA;\n",
              "      --hover-fill-color: #174EA6;\n",
              "      --disabled-fill-color: #AAA;\n",
              "      --disabled-bg-color: #DDD;\n",
              "  }\n",
              "\n",
              "  [theme=dark] .colab-df-quickchart {\n",
              "      --bg-color: #3B4455;\n",
              "      --fill-color: #D2E3FC;\n",
              "      --hover-bg-color: #434B5C;\n",
              "      --hover-fill-color: #FFFFFF;\n",
              "      --disabled-bg-color: #3B4455;\n",
              "      --disabled-fill-color: #666;\n",
              "  }\n",
              "\n",
              "  .colab-df-quickchart {\n",
              "    background-color: var(--bg-color);\n",
              "    border: none;\n",
              "    border-radius: 50%;\n",
              "    cursor: pointer;\n",
              "    display: none;\n",
              "    fill: var(--fill-color);\n",
              "    height: 32px;\n",
              "    padding: 0;\n",
              "    width: 32px;\n",
              "  }\n",
              "\n",
              "  .colab-df-quickchart:hover {\n",
              "    background-color: var(--hover-bg-color);\n",
              "    box-shadow: 0 1px 2px rgba(60, 64, 67, 0.3), 0 1px 3px 1px rgba(60, 64, 67, 0.15);\n",
              "    fill: var(--button-hover-fill-color);\n",
              "  }\n",
              "\n",
              "  .colab-df-quickchart-complete:disabled,\n",
              "  .colab-df-quickchart-complete:disabled:hover {\n",
              "    background-color: var(--disabled-bg-color);\n",
              "    fill: var(--disabled-fill-color);\n",
              "    box-shadow: none;\n",
              "  }\n",
              "\n",
              "  .colab-df-spinner {\n",
              "    border: 2px solid var(--fill-color);\n",
              "    border-color: transparent;\n",
              "    border-bottom-color: var(--fill-color);\n",
              "    animation:\n",
              "      spin 1s steps(1) infinite;\n",
              "  }\n",
              "\n",
              "  @keyframes spin {\n",
              "    0% {\n",
              "      border-color: transparent;\n",
              "      border-bottom-color: var(--fill-color);\n",
              "      border-left-color: var(--fill-color);\n",
              "    }\n",
              "    20% {\n",
              "      border-color: transparent;\n",
              "      border-left-color: var(--fill-color);\n",
              "      border-top-color: var(--fill-color);\n",
              "    }\n",
              "    30% {\n",
              "      border-color: transparent;\n",
              "      border-left-color: var(--fill-color);\n",
              "      border-top-color: var(--fill-color);\n",
              "      border-right-color: var(--fill-color);\n",
              "    }\n",
              "    40% {\n",
              "      border-color: transparent;\n",
              "      border-right-color: var(--fill-color);\n",
              "      border-top-color: var(--fill-color);\n",
              "    }\n",
              "    60% {\n",
              "      border-color: transparent;\n",
              "      border-right-color: var(--fill-color);\n",
              "    }\n",
              "    80% {\n",
              "      border-color: transparent;\n",
              "      border-right-color: var(--fill-color);\n",
              "      border-bottom-color: var(--fill-color);\n",
              "    }\n",
              "    90% {\n",
              "      border-color: transparent;\n",
              "      border-bottom-color: var(--fill-color);\n",
              "    }\n",
              "  }\n",
              "</style>\n",
              "\n",
              "      <script>\n",
              "        async function quickchart(key) {\n",
              "          const quickchartButtonEl =\n",
              "            document.querySelector('#' + key + ' button');\n",
              "          quickchartButtonEl.disabled = true;  // To prevent multiple clicks.\n",
              "          quickchartButtonEl.classList.add('colab-df-spinner');\n",
              "          try {\n",
              "            const charts = await google.colab.kernel.invokeFunction(\n",
              "                'suggestCharts', [key], {});\n",
              "          } catch (error) {\n",
              "            console.error('Error during call to suggestCharts:', error);\n",
              "          }\n",
              "          quickchartButtonEl.classList.remove('colab-df-spinner');\n",
              "          quickchartButtonEl.classList.add('colab-df-quickchart-complete');\n",
              "        }\n",
              "        (() => {\n",
              "          let quickchartButtonEl =\n",
              "            document.querySelector('#df-369d73ec-6b38-45f2-910d-879f860bba6a button');\n",
              "          quickchartButtonEl.style.display =\n",
              "            google.colab.kernel.accessAllowed ? 'block' : 'none';\n",
              "        })();\n",
              "      </script>\n",
              "    </div>\n",
              "    </div>\n",
              "  </div>\n"
            ],
            "application/vnd.google.colaboratory.intrinsic+json": {
              "type": "dataframe",
              "summary": "{\n  \"name\": \"display(df\",\n  \"rows\": 5,\n  \"fields\": [\n    {\n      \"column\": \"Month\",\n      \"properties\": {\n        \"dtype\": \"object\",\n        \"num_unique_values\": 5,\n        \"samples\": [\n          \"1949-02\",\n          \"1949-05\",\n          \"1949-03\"\n        ],\n        \"semantic_type\": \"\",\n        \"description\": \"\"\n      }\n    },\n    {\n      \"column\": \"Passengers\",\n      \"properties\": {\n        \"dtype\": \"number\",\n        \"std\": 8,\n        \"min\": 112,\n        \"max\": 132,\n        \"num_unique_values\": 5,\n        \"samples\": [\n          118,\n          121,\n          132\n        ],\n        \"semantic_type\": \"\",\n        \"description\": \"\"\n      }\n    }\n  ]\n}"
            }
          },
          "metadata": {}
        }
      ],
      "source": [
        "import pandas as pd\n",
        "import numpy as np\n",
        "from matplotlib import pyplot as plt\n",
        "\n",
        "# Завантаження даних\n",
        "url = \"https://raw.githubusercontent.com/jbrownlee/Datasets/master/airline-passengers.csv\"\n",
        "df = pd.read_csv(url)\n",
        "df.set_index('Month', inplace=True)\n",
        "display(df.head())"
      ]
    },
    {
      "cell_type": "markdown",
      "source": [
        "**Завдання 1.** Створіть змінну типу `numpy.ndarray`, яка містить значення кількості пасажирів в форматі `float32`. Такий формат даних нам треба для тренування нейромережі."
      ],
      "metadata": {
        "id": "BCcNvF28wSH3"
      }
    },
    {
      "cell_type": "code",
      "source": [
        "data = df['Passengers'].values.astype('float32')\n",
        "data[:5]"
      ],
      "metadata": {
        "id": "7PcJkPAoBOH5",
        "colab": {
          "base_uri": "https://localhost:8080/"
        },
        "outputId": "328cadd2-833b-41f3-a9f8-f0cfc66334b1"
      },
      "execution_count": 5,
      "outputs": [
        {
          "output_type": "execute_result",
          "data": {
            "text/plain": [
              "array([112., 118., 132., 129., 121.], dtype=float32)"
            ]
          },
          "metadata": {},
          "execution_count": 5
        }
      ]
    },
    {
      "cell_type": "markdown",
      "source": [
        "Очікуваний результат:\n",
        "```array([112., 118., 132., 129., 121.], dtype=float32)```"
      ],
      "metadata": {
        "id": "Vms2Pxp1xCrB"
      }
    },
    {
      "cell_type": "markdown",
      "source": [
        "**Завдання 2**. Розбийте дані на тренувальні і валідаційні у співвідношенні 67% йде у тренування, 33 - у валідацію. Памʼятаємо, що ми працюємо з tim series, відповідно, навчаємось на давніших, валідуємось - на новіших."
      ],
      "metadata": {
        "id": "vESTxq-OxLRK"
      }
    },
    {
      "cell_type": "code",
      "source": [
        "train_size = int(len(data) * 0.67)\n",
        "test_size = len(data) - train_size\n",
        "train, test = data[:train_size], data[train_size:]\n",
        "print(train[:5])\n",
        "print(test[:5])"
      ],
      "metadata": {
        "id": "USpGte_tBPR1",
        "colab": {
          "base_uri": "https://localhost:8080/"
        },
        "outputId": "162139ae-2a8c-4b5d-9a79-a06658af4a1a"
      },
      "execution_count": 9,
      "outputs": [
        {
          "output_type": "stream",
          "name": "stdout",
          "text": [
            "[112. 118. 132. 129. 121.]\n",
            "[315. 301. 356. 348. 355.]\n"
          ]
        }
      ]
    },
    {
      "cell_type": "markdown",
      "source": [
        "**Завдання 3**.\n",
        "\n",
        "Реалізуйте функцію `create_dataset`, яка перетворить одномірний часовий ряд (набір даних) у формат, придатний для тренування нейромережі.\n",
        "\n",
        "Функція повинна приймати два аргументи:\n",
        "- `dataset` — numpy-масив часового ряду,\n",
        "- `lookback` — кількість попередніх кроків, які використовуватимуться для передбачення.\n",
        "\n",
        "Функція повинна повернути два **тензори** PyTorch:\n",
        "- `X` — набір ознак (вікно попередніх значень),\n",
        "- `y` — цільові значення (наступні після вікна кроки).\n",
        "\n",
        "Дані ми будемо подавати моделі в наступному форматі:\n",
        "`\n",
        "tensor([[112.],\n",
        "        [118.],\n",
        "        [132.],\n",
        "        [129.],\n",
        "        [121.]])\n",
        "`\n",
        "Відповідно першою розмірністю буде йти розмір вхідного батча, а другою - розмір вхіднизх даних і в нас це 1, бо лише одне значення на вході щоразу.\n",
        "\n",
        "Після виконання завдання запустіть код нижче. Ми будемо передбачати на основі кількості пасажирів в попередній день кількість пасажирів в наступний, тому `lookback == 1`."
      ],
      "metadata": {
        "id": "YB-e-vEDx3bn"
      }
    },
    {
      "cell_type": "code",
      "source": [
        "import torch\n",
        "def create_dataset(dataset, lookback=1):\n",
        "    X, y = [], []\n",
        "    for i in range(len(dataset) - lookback):\n",
        "        X.append(dataset[i:(i + lookback)])\n",
        "        y.append(dataset[i + lookback])\n",
        "    X = torch.tensor(X, dtype=torch.float32)\n",
        "    y = torch.tensor(y, dtype=torch.float32).unsqueeze(1)\n",
        "    return X, y"
      ],
      "metadata": {
        "id": "s5UXOiAHBVwe"
      },
      "execution_count": 18,
      "outputs": []
    },
    {
      "cell_type": "code",
      "source": [
        "lookback = 1\n",
        "X_train, y_train = create_dataset(train, lookback=lookback)\n",
        "X_test, y_test = create_dataset(test, lookback=lookback)\n",
        "print(X_train.shape, y_train.shape)\n",
        "print(X_test.shape, y_test.shape)"
      ],
      "metadata": {
        "colab": {
          "base_uri": "https://localhost:8080/"
        },
        "id": "dA8FwOfwuPyl",
        "outputId": "d0ace6ba-aca9-4ff3-ac06-d70407e24e88"
      },
      "execution_count": 19,
      "outputs": [
        {
          "output_type": "stream",
          "name": "stdout",
          "text": [
            "torch.Size([95, 1]) torch.Size([95, 1])\n",
            "torch.Size([47, 1]) torch.Size([47, 1])\n"
          ]
        }
      ]
    },
    {
      "cell_type": "markdown",
      "source": [
        "Очікуваний результат:\n",
        "```\n",
        "torch.Size([95, 1]) torch.Size([95, 1])\n",
        "torch.Size([47, 1]) torch.Size([47, 1])\n",
        "```"
      ],
      "metadata": {
        "id": "dvEA-D-SzcWf"
      }
    },
    {
      "cell_type": "markdown",
      "source": [
        "**Завдання 4**.\n",
        "\n",
        "Зверніть увагу на розмірності в попередньому завданні. Ми\n",
        "З допомогою модуля `torch.nn` опишіть клас `AirModel`, який є нейронною мережею для прогнозування кількості пасажирів за допомогою LSTM.\n",
        "\n",
        "1. **Конструктор класу** повинен приймати параметри `hidden_size`, `num_layers` та ініціювати шари:\n",
        "   - LSTM-шар з наступними параметрами:\n",
        "     - `input_size` — кожна точка часового ряду є окремим входом,,\n",
        "     - `hidden_size` — заданий в конструкторі класу мережі,\n",
        "     - `num_layers=1` — кількість шарів LSTM, задана в конструкторі мережі,\n",
        "     - `batch_first=True` — визначає, що першим виміром є розмір батчу.\n",
        "   - Лінійний шар (`nn.Linear`) для перетворення виходу LSTM на прогноз однієї точки.\n",
        "\n",
        "2. **Метод forward** повинен виконувати наступні дії:\n",
        "   - Передати вхідний тензор через LSTM-шар і отримати виходи (ігноруючи приховані стани).\n",
        "   - Пропустити вихід LSTM через лінійний шар для отримання остаточного прогнозу.\n",
        "\n",
        "Створіть об'єкт класу `AirModel` зі значеннями параметрів `hidden_size=50`, `num_layers=1` і протестуйте роботу моделі на вхідному тензорі `tensor([[112.]])`. На цьому етапі ми маємо переконатись, що модель здатна генерувати передбачення з рандомно ініційованими вагами."
      ],
      "metadata": {
        "id": "eeiFJ-jDznj5"
      }
    },
    {
      "cell_type": "code",
      "source": [
        "import torch.nn as nn\n",
        "\n",
        "class AirModel(nn.Module):\n",
        "    def __init__(self, hidden_size, num_layers):\n",
        "        super(AirModel, self).__init__()\n",
        "        self.hidden_size = hidden_size\n",
        "        self.num_layers = num_layers\n",
        "        self.lstm = nn.LSTM(\n",
        "            input_size=1,\n",
        "            hidden_size=hidden_size,\n",
        "            num_layers=num_layers,\n",
        "            batch_first=True\n",
        "        )\n",
        "        self.fc = nn.Linear(hidden_size, 1)\n",
        "\n",
        "    def forward(self, x):\n",
        "        out, _ = self.lstm(x)\n",
        "        out = out[:, -1, :]\n",
        "        out = self.fc(out)\n",
        "        return out\n",
        "\n",
        "model = AirModel(hidden_size=50, num_layers=1)\n",
        "test_input = torch.tensor([[112.]], dtype=torch.float32).unsqueeze(0)\n",
        "output = model(test_input)\n",
        "print(output)\n"
      ],
      "metadata": {
        "id": "dcafrsmrDHsz",
        "colab": {
          "base_uri": "https://localhost:8080/"
        },
        "outputId": "8ccb8b5c-6a9d-4353-c15e-4ce3fec5a6dc"
      },
      "execution_count": 22,
      "outputs": [
        {
          "output_type": "stream",
          "name": "stdout",
          "text": [
            "tensor([[-0.1904]], grad_fn=<AddmmBackward0>)\n"
          ]
        }
      ]
    },
    {
      "cell_type": "markdown",
      "source": [
        "**Завдання 5**.\n",
        "\n",
        "Створіть об'єкт DataLoader для завантаження даних, використовуючи тренувальні вибірки `X_train` та `y_train`. Ваш DataLoader повинен виконувати наступні вимоги:\n",
        "\n",
        "1. Використовувати клас `TensorDataset`, щоб об'єднати тензори ознак `X_train` і цільових значень `y_train`.\n",
        "2. Дані повинні завантажуватися невеликими батчами розміром 8 за допомогою параметра `batch_size`.\n",
        "3. Використовувати параметр `shuffle=True`, щоб дані перемішувалися перед кожною епохою тренування.\n"
      ],
      "metadata": {
        "id": "-R6zv9nu2tWB"
      }
    },
    {
      "cell_type": "code",
      "source": [
        "from torch.utils.data import TensorDataset, DataLoader\n",
        "train_dataset = TensorDataset(X_train, y_train)\n",
        "train_loader = DataLoader(\n",
        "    train_dataset,\n",
        "    batch_size=8,\n",
        "    shuffle=True\n",
        ")\n",
        "\n",
        "for X_batch, y_batch in train_loader:\n",
        "    print(\"Розмір X_batch:\", X_batch.shape)\n",
        "    print(\"Розмір y_batch:\", y_batch.shape)\n",
        "    break\n"
      ],
      "metadata": {
        "id": "WKdkptY7DMAc",
        "colab": {
          "base_uri": "https://localhost:8080/"
        },
        "outputId": "b4de27fe-7a6a-4e5b-9b7d-dbd4026b610b"
      },
      "execution_count": 23,
      "outputs": [
        {
          "output_type": "stream",
          "name": "stdout",
          "text": [
            "Розмір X_batch: torch.Size([8, 1])\n",
            "Розмір y_batch: torch.Size([8, 1])\n"
          ]
        }
      ]
    },
    {
      "cell_type": "markdown",
      "source": [
        "**Завдання 6**.\n",
        "\n",
        "1. Реалізуйте навчання нейронної мережі `AirModel` для прогнозування часових рядів, використовуючи Adam-оптимізатор та функцію втрат MSE (середньоквадратичну похибку).\n",
        "2. Створіть цикл тренування для 2000 епох, у якому на кожній епосі:\n",
        "   - Виконуйте крок тренування моделі (прямий прохід, обчислення похибки, зворотний прохід і оновлення ваг).\n",
        "   - Підраховуйте середню похибку на кожному батчі даних і зберігайте її у списку `losses`.\n",
        "3. Раз на 100 епох проводьте валідацію моделі:\n",
        "   - Перевіряйте модель на тренувальних та тестових даних без оновлення ваг.\n",
        "   - Обчислюйте корінь середньоквадратичної похибки (RMSE) для тренувальної та тестової вибірок і виводьте результати на екран.\n",
        "   \n",
        "**Примітка:**\n",
        "- Використовуйте вже створений `DataLoader` для отримання батчів даних.\n",
        "- Валідацію виконуйте в режимі `eval()`, вимикаючи обчислення градієнтів з `torch.no_grad()`.\n",
        "\n",
        "**Приклад виходу:**\n",
        "```\n",
        "Epoch 0: train RMSE 12.3456, test RMSE 15.6789\n",
        "Epoch 100: train RMSE 9.8765, test RMSE 12.3456\n",
        "...\n",
        "```"
      ],
      "metadata": {
        "id": "6ZaGh7IF2nfT"
      }
    },
    {
      "cell_type": "code",
      "source": [
        "import torch.optim as optim\n",
        "\n",
        "num_epochs = 2000\n",
        "learning_rate = 0.001\n",
        "model = AirModel(hidden_size=50, num_layers=1)\n",
        "criterion = nn.MSELoss()\n",
        "optimizer = optim.Adam(model.parameters(), lr=learning_rate)\n",
        "losses = []\n",
        "for epoch in range(num_epochs):\n",
        "    model.train()\n",
        "    epoch_loss = 0.0\n",
        "    for X_batch, y_batch in train_loader:\n",
        "        X_batch = X_batch.unsqueeze(-1)\n",
        "        outputs = model(X_batch)\n",
        "        loss = criterion(outputs, y_batch)\n",
        "        optimizer.zero_grad()\n",
        "        loss.backward()\n",
        "        optimizer.step()\n",
        "        epoch_loss += loss.item()\n",
        "    epoch_loss /= len(train_loader)\n",
        "    losses.append(epoch_loss)\n",
        "    if epoch % 100 == 0:\n",
        "        model.eval()\n",
        "        with torch.no_grad():\n",
        "            train_pred = model(X_train.unsqueeze(-1))\n",
        "            train_rmse = torch.sqrt(criterion(train_pred, y_train)).item()\n",
        "            test_pred = model(X_test.unsqueeze(-1))\n",
        "            test_rmse = torch.sqrt(criterion(test_pred, y_test)).item()\n",
        "\n",
        "        print(f\"Epoch {epoch}: train RMSE {train_rmse:.4f}, test RMSE {test_rmse:.4f}\")\n"
      ],
      "metadata": {
        "id": "pEVnWusrDNTt",
        "colab": {
          "base_uri": "https://localhost:8080/"
        },
        "outputId": "09a359ec-40b7-4f68-b02b-3916c91fe3c9"
      },
      "execution_count": 24,
      "outputs": [
        {
          "output_type": "stream",
          "name": "stdout",
          "text": [
            "Epoch 0: train RMSE 226.0482, test RMSE 422.4921\n",
            "Epoch 100: train RMSE 187.8320, test RMSE 382.4896\n",
            "Epoch 200: train RMSE 156.9667, test RMSE 349.3351\n",
            "Epoch 300: train RMSE 129.8072, test RMSE 318.8400\n",
            "Epoch 400: train RMSE 106.6994, test RMSE 290.7319\n",
            "Epoch 500: train RMSE 88.4272, test RMSE 265.3799\n",
            "Epoch 600: train RMSE 72.1350, test RMSE 241.1578\n",
            "Epoch 700: train RMSE 58.6167, test RMSE 218.3548\n",
            "Epoch 800: train RMSE 48.1729, test RMSE 197.7081\n",
            "Epoch 900: train RMSE 40.8557, test RMSE 179.2412\n",
            "Epoch 1000: train RMSE 34.8479, test RMSE 162.9393\n",
            "Epoch 1100: train RMSE 30.6522, test RMSE 148.9405\n",
            "Epoch 1200: train RMSE 29.1708, test RMSE 137.2892\n",
            "Epoch 1300: train RMSE 26.3794, test RMSE 128.4858\n",
            "Epoch 1400: train RMSE 25.5188, test RMSE 121.1840\n",
            "Epoch 1500: train RMSE 25.2353, test RMSE 115.5212\n",
            "Epoch 1600: train RMSE 24.3546, test RMSE 111.9789\n",
            "Epoch 1700: train RMSE 24.1907, test RMSE 108.3304\n",
            "Epoch 1800: train RMSE 24.1643, test RMSE 104.5683\n",
            "Epoch 1900: train RMSE 23.6143, test RMSE 102.7893\n"
          ]
        }
      ]
    },
    {
      "cell_type": "markdown",
      "source": [
        "**Завдання 7.** Побудуйте графік лосів. Зробіть висновок з графіку, чи навчилась модель?"
      ],
      "metadata": {
        "id": "m0sIo4kp5X_s"
      }
    },
    {
      "cell_type": "code",
      "source": [
        "import matplotlib.pyplot as plt\n",
        "plt.figure(figsize=(8, 4))\n",
        "plt.plot(losses, label='Train Loss', linewidth=2)\n",
        "plt.title('Динаміка RMSE', fontsize=14)\n",
        "plt.xlabel('Епоха', fontsize=12)\n",
        "plt.ylabel('RMSE', fontsize=12)\n",
        "plt.legend()\n",
        "plt.grid(True)\n",
        "plt.show()"
      ],
      "metadata": {
        "id": "AS2USLRq76up",
        "colab": {
          "base_uri": "https://localhost:8080/",
          "height": 415
        },
        "outputId": "952ab748-1bb4-4631-ab1f-1ad8cbd40826"
      },
      "execution_count": 31,
      "outputs": [
        {
          "output_type": "display_data",
          "data": {
            "text/plain": [
              "<Figure size 800x400 with 1 Axes>"
            ],
            "image/png": "[encoded data removed]"
          },
          "metadata": {}
        }
      ]
    },
    {
      "cell_type": "markdown",
      "source": [
        "Загалом можна сказати, що модель навчилася, оскільки RMSE спадає, після чого стабілізується на певному рівні. Проте RMSE після стабілізації досить високий, на рівні 20-30"
      ],
      "metadata": {
        "id": "qdSeuddjq6qd"
      }
    },
    {
      "cell_type": "markdown",
      "source": [
        "Модель навчилась, але не факт, що точно)"
      ],
      "metadata": {
        "id": "8eBoUQVB5p0h"
      }
    },
    {
      "cell_type": "markdown",
      "source": [
        "Доволі неочікувано, що середньоквадратичне відхилення тестового набору даних буде на порядок більшим за одиниці в нашому наборі даних. Середньоквадратичне відхилення 100 означає, що прогноз і фактичне значення будуть відрізнятися в середньому на 100 (тобто, 100 000 пасажирів у цьому наборі даних).\n",
        "\n"
      ],
      "metadata": {
        "id": "-vCiGfQw7sEK"
      }
    },
    {
      "cell_type": "markdown",
      "source": [
        "Щоб краще зрозуміти якість прогнозу, ви можете побудувати графік з кодом нижче (а ще нижче - описано, що відбувається в цьому коді, бо це теж корисно зрозуміти):"
      ],
      "metadata": {
        "id": "bgtO7NZh77vU"
      }
    },
    {
      "cell_type": "code",
      "source": [
        "timeseries = data\n",
        "def plot_predicts():\n",
        "  with torch.no_grad():\n",
        "      # Зсув прогнозів для тренувальних даних\n",
        "      train_plot = np.ones_like(timeseries) * np.nan\n",
        "      y_pred = model(X_train.unsqueeze(-1))\n",
        "      train_plot[lookback:train_size] = y_pred[:, 0]\n",
        "\n",
        "      # Зсув прогнозів для тестових даних\n",
        "      test_plot = np.ones_like(timeseries) * np.nan\n",
        "      y_pred_test = model(X_test.unsqueeze(-1))\n",
        "      test_plot[train_size+lookback:len(timeseries)] = y_pred_test[:, 0]\n",
        "\n",
        "  # Візуалізація результатів\n",
        "  plt.plot(timeseries, c='b')  # Реальні дані\n",
        "  plt.plot(train_plot, c='r')  # Прогнози на тренувальних даних\n",
        "  plt.plot(test_plot, c='g')   # Прогнози на тестових даних\n",
        "  plt.show()\n",
        "\n",
        "plot_predicts()"
      ],
      "metadata": {
        "id": "ZznU2AK0vES5",
        "colab": {
          "base_uri": "https://localhost:8080/",
          "height": 519
        },
        "outputId": "9b199603-70bc-4513-ae90-d0484e7b3a9a"
      },
      "execution_count": 34,
      "outputs": [
        {
          "output_type": "stream",
          "name": "stderr",
          "text": [
            "/tmp/ipython-input-1781421010.py:7: DeprecationWarning: __array__ implementation doesn't accept a copy keyword, so passing copy=False failed. __array__ must implement 'dtype' and 'copy' keyword arguments.\n",
            "  train_plot[lookback:train_size] = y_pred[:, 0]  # беремо перший (і єдиний) вихід\n",
            "/tmp/ipython-input-1781421010.py:12: DeprecationWarning: __array__ implementation doesn't accept a copy keyword, so passing copy=False failed. __array__ must implement 'dtype' and 'copy' keyword arguments.\n",
            "  test_plot[train_size+lookback:len(timeseries)] = y_pred_test[:, 0]\n"
          ]
        },
        {
          "output_type": "display_data",
          "data": {
            "text/plain": [
              "<Figure size 640x480 with 1 Axes>"
            ],
            "image/png": "[encoded data removed]"
          },
          "metadata": {}
        }
      ]
    },
    {
      "cell_type": "markdown",
      "source": [
        "**Що відбувається в коді вище.** В цьому коді здійснюється процес прогнозування часових рядів за допомогою LSTM моделі, а також виведення графіку, який показує реальні значення, тренувальні та тестові прогнози. Ось що відбувається на кожному етапі:\n",
        "\n",
        "1. **`torch.no_grad()`**: Цей контекстний менеджер вимикає обчислення градієнтів, що означає, що під час прогнозування не будуть зберігатися проміжні обчислення для зворотного проходу (backpropagation). Це підвищує ефективність під час прогнозування і зменшує використання пам'яті.\n",
        "\n",
        "2. **Зсув прогнозів для тренувальних даних:**\n",
        "   - Створюється масив `train_plot`, який має такий самий розмір, як і часовий ряд (`timeseries`), і заповнюється значеннями NaN (`np.nan`), щоб залишити місце для реальних значень.\n",
        "   - Модель передбачає виходи для тренувальних даних `X_train`.\n",
        "   - Використовується лише останнє передбачене значення для кожного входу LSTM (`y_pred[:, -1]`).\n",
        "   - Прогнози зсуваються, починаючи з індексу `lookback` до кінця тренувальних даних (індекс `train_size`). Цей зсув потрібен, щоб зробити прогноз на основі попередніх даних і відобразити його на правильній частині графіку.\n",
        "\n",
        "3. **Зсув прогнозів для тестових даних:**\n",
        "   - Створюється масив `test_plot`, який також заповнюється NaN.\n",
        "   - Прогнози для тестових даних додаються з індексу `train_size + lookback` до кінця реальних даних, щоб відобразити, де модель починає прогнозувати тестову вибірку.\n",
        "\n",
        "4. **Побудова графіка:**\n",
        "   - `plt.plot(timeseries, c='b')`: Виводить реальні значення часового ряду (синя лінія).\n",
        "   - `plt.plot(train_plot, c='r')`: Виводить тренувальні прогнози (червона лінія).\n",
        "   - `plt.plot(test_plot, c='g')`: Виводить тестові прогнози (зелена лінія).\n",
        "\n",
        "**Чому це робиться:**\n",
        "- Зсув прогнозів для тренувальних і тестових даних дозволяє візуально зрівняти, наскільки добре модель прогнозує як на тренувальній, так і на тестовій вибірках. Зазвичай, червона лінія (тренувальні прогнози) повинна точно відповідати синій лінії (реальні дані), а зелена лінія (тестові прогнози) дає змогу побачити, наскільки модель добре працює на нових даних, яких вона раніше не бачила."
      ],
      "metadata": {
        "id": "ahPW3iiJDg1R"
      }
    },
    {
      "cell_type": "markdown",
      "source": [
        "**Завдання 8**. Навчіть модель з hidden_size=100 та порівняйте результати прогнозів з попередніми."
      ],
      "metadata": {
        "id": "PhoeHLus-xIr"
      }
    },
    {
      "cell_type": "code",
      "source": [
        "model_hs100 = AirModel(hidden_size=100, num_layers=1)\n",
        "criterion = nn.MSELoss()\n",
        "optimizer = torch.optim.Adam(model_hs100.parameters(), lr=0.001)\n",
        "num_epochs = 2000\n",
        "losses_hs100 = []\n",
        "for epoch in range(num_epochs):\n",
        "    model_hs100.train()\n",
        "    epoch_loss = 0.0\n",
        "    for X_batch, y_batch in train_loader:\n",
        "        X_batch = X_batch.unsqueeze(-1)\n",
        "        outputs = model_hs100(X_batch)\n",
        "        loss = criterion(outputs, y_batch)\n",
        "        optimizer.zero_grad()\n",
        "        loss.backward()\n",
        "        optimizer.step()\n",
        "        epoch_loss += loss.item()\n",
        "    epoch_loss /= len(train_loader)\n",
        "    losses_hs100.append(epoch_loss)\n",
        "\n",
        "    if epoch % 100 == 0:\n",
        "        model_hs100.eval()\n",
        "        with torch.no_grad():\n",
        "            train_rmse = torch.sqrt(criterion(model_hs100(X_train.unsqueeze(-1)), y_train)).item()\n",
        "            test_rmse = torch.sqrt(criterion(model_hs100(X_test.unsqueeze(-1)), y_test)).item()\n",
        "        print(f\"Epoch {epoch}: train RMSE {train_rmse:.4f}, test RMSE {test_rmse:.4f}\")\n"
      ],
      "metadata": {
        "id": "92032N_E_PxY",
        "colab": {
          "base_uri": "https://localhost:8080/"
        },
        "outputId": "3683b877-3ed0-4f80-9a4f-c9a2ec85117f"
      },
      "execution_count": 36,
      "outputs": [
        {
          "output_type": "stream",
          "name": "stdout",
          "text": [
            "Epoch 0: train RMSE 225.6866, test RMSE 422.0791\n",
            "Epoch 100: train RMSE 150.4049, test RMSE 342.1167\n",
            "Epoch 200: train RMSE 100.6580, test RMSE 282.7279\n",
            "Epoch 300: train RMSE 70.6736, test RMSE 238.4927\n",
            "Epoch 400: train RMSE 51.0144, test RMSE 201.6444\n",
            "Epoch 500: train RMSE 38.2403, test RMSE 172.3312\n",
            "Epoch 600: train RMSE 31.5448, test RMSE 149.2343\n",
            "Epoch 700: train RMSE 29.7437, test RMSE 131.2858\n",
            "Epoch 800: train RMSE 27.0236, test RMSE 118.5314\n",
            "Epoch 900: train RMSE 24.6620, test RMSE 111.4820\n",
            "Epoch 1000: train RMSE 24.2579, test RMSE 104.0603\n",
            "Epoch 1100: train RMSE 24.8978, test RMSE 101.5139\n",
            "Epoch 1200: train RMSE 23.9200, test RMSE 96.5583\n",
            "Epoch 1300: train RMSE 25.2799, test RMSE 95.2354\n",
            "Epoch 1400: train RMSE 23.6558, test RMSE 92.8318\n",
            "Epoch 1500: train RMSE 23.1684, test RMSE 90.9182\n",
            "Epoch 1600: train RMSE 23.7006, test RMSE 89.2598\n",
            "Epoch 1700: train RMSE 22.9693, test RMSE 88.9115\n",
            "Epoch 1800: train RMSE 23.3544, test RMSE 89.5434\n",
            "Epoch 1900: train RMSE 22.8820, test RMSE 87.4067\n"
          ]
        }
      ]
    },
    {
      "cell_type": "code",
      "source": [
        "plt.figure(figsize=(8, 4))\n",
        "plt.plot(losses, label='Train Loss', linewidth=2)\n",
        "plt.plot(losses_hs100, label='Train Loss (hidden_state=100)', linewidth=2)\n",
        "plt.title('Динаміка RMSE', fontsize=14)\n",
        "plt.xlabel('Епоха', fontsize=12)\n",
        "plt.ylabel('RMSE', fontsize=12)\n",
        "plt.legend()\n",
        "plt.grid(True)\n",
        "plt.show()"
      ],
      "metadata": {
        "colab": {
          "base_uri": "https://localhost:8080/",
          "height": 415
        },
        "id": "MYObQyci2yII",
        "outputId": "8e7c7290-7e7c-4585-a863-8d1732683d5d"
      },
      "execution_count": 38,
      "outputs": [
        {
          "output_type": "display_data",
          "data": {
            "text/plain": [
              "<Figure size 800x400 with 1 Axes>"
            ],
            "image/png": "[encoded data removed]"
          },
          "metadata": {}
        }
      ]
    },
    {
      "cell_type": "markdown",
      "source": [
        "Нова модель навчається швидше, але стабілізується приблизно на тому самому рівні, що і попередня"
      ],
      "metadata": {
        "id": "wLzgvln73ZGD"
      }
    }
  ]
}