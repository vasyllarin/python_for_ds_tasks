{
  "nbformat": 4,
  "nbformat_minor": 0,
  "metadata": {
    "colab": {
      "provenance": []
    },
    "kernelspec": {
      "name": "python3",
      "display_name": "Python 3"
    },
    "language_info": {
      "name": "python"
    }
  },
  "cells": [
    {
      "cell_type": "markdown",
      "source": [
        "**Секція 1. Логістична регресія з нуля.**\n",
        "\n",
        "Будемо крок за кроком будувати модель лог регресії з нуля для передбачення, чи буде врожай більше за 80 яблук (задача подібна до лекційної, але на класифікацію).\n",
        "\n",
        "Давайте нагадаємо основні формули для логістичної регресії.\n",
        "\n",
        "### Функція гіпотези - обчислення передбачення у логістичній регресії:\n",
        "\n",
        "$$\n",
        "\\hat{y} = \\sigma(x W^T + b) = \\frac{1}{1 + e^{-(x W^T + b)}}\n",
        "$$\n",
        "\n",
        "Де:\n",
        "- $ \\hat{y} $ — це ймовірність \"позитивного\" класу.\n",
        "- $ x $ — це вектор (або матриця для набору прикладів) вхідних даних.\n",
        "- $ W $ — це вектор (або матриця) вагових коефіцієнтів моделі.\n",
        "- $ b $ — це зміщення (bias).\n",
        "- $ \\sigma(z) $ — це сигмоїдна функція активації.\n",
        "\n",
        "### Як обчислюється сигмоїдна функція:\n",
        "\n",
        "Сигмоїдна функція $ \\sigma(z) $ має вигляд:\n",
        "\n",
        "$$\n",
        "\\sigma(z) = \\frac{1}{1 + e^{-z}}\n",
        "$$\n",
        "\n",
        "Ця функція перетворює будь-яке дійсне значення $ z $ в інтервал від 0 до 1, що дозволяє інтерпретувати вихід як ймовірність для логістичної регресії.\n",
        "\n",
        "### Формула функції втрат для логістичної регресії (бінарна крос-ентропія):\n",
        "\n",
        "Функція втрат крос-ентропії оцінює, наскільки добре модель передбачає класи, порівнюючи передбачені ймовірності $ \\hat{y} $ із справжніми мітками $ y $. Формула наступна:\n",
        "\n",
        "$$\n",
        "L(y, \\hat{y}) = - \\left[ y \\cdot \\log(\\hat{y}) + (1 - y) \\cdot \\log(1 - \\hat{y}) \\right]\n",
        "$$\n",
        "\n",
        "Де:\n",
        "- $ y $ — це справжнє значення (мітка класу, 0 або 1).\n",
        "- $ \\hat{y} $ — це передбачене значення (ймовірність).\n",
        "\n"
      ],
      "metadata": {
        "id": "lbLHTNfSclli"
      }
    },
    {
      "cell_type": "markdown",
      "source": [
        "1.\n",
        "Тут вже наведений код для ініціювання набору даних в форматі numpy. Перетворіть `inputs`, `targets` на `torch` тензори. Виведіть результат на екран."
      ],
      "metadata": {
        "id": "GtOYB-RHfc_r"
      }
    },
    {
      "cell_type": "code",
      "source": [
        "import torch\n",
        "import numpy as np"
      ],
      "metadata": {
        "id": "3BNXSR-VdYKQ"
      },
      "execution_count": 1,
      "outputs": []
    },
    {
      "cell_type": "code",
      "execution_count": 2,
      "metadata": {
        "id": "QLKZ77x4v_-v"
      },
      "outputs": [],
      "source": [
        "# Вхідні дані (temp, rainfall, humidity)\n",
        "inputs = np.array([[73, 67, 43],\n",
        "                   [91, 88, 64],\n",
        "                   [87, 134, 58],\n",
        "                   [102, 43, 37],\n",
        "                   [69, 96, 70]], dtype='float32')\n",
        "\n",
        "# Таргети (apples > 80)\n",
        "targets = np.array([[0],\n",
        "                    [1],\n",
        "                    [1],\n",
        "                    [0],\n",
        "                    [1]], dtype='float32')"
      ]
    },
    {
      "cell_type": "code",
      "source": [
        "inputs_tensor = torch.from_numpy(inputs)\n",
        "targets_tensor = torch.from_numpy(targets)\n",
        "print(\"Inputs Tensor:\\n\", inputs_tensor)\n",
        "print(\"Targets Tensor:\\n\", targets_tensor)"
      ],
      "metadata": {
        "id": "KjoeaDrk6fO7",
        "colab": {
          "base_uri": "https://localhost:8080/"
        },
        "outputId": "2b0c1024-de2a-45a2-9bd7-2fc175728f41"
      },
      "execution_count": 3,
      "outputs": [
        {
          "output_type": "stream",
          "name": "stdout",
          "text": [
            "Inputs Tensor:\n",
            " tensor([[ 73.,  67.,  43.],\n",
            "        [ 91.,  88.,  64.],\n",
            "        [ 87., 134.,  58.],\n",
            "        [102.,  43.,  37.],\n",
            "        [ 69.,  96.,  70.]])\n",
            "Targets Tensor:\n",
            " tensor([[0.],\n",
            "        [1.],\n",
            "        [1.],\n",
            "        [0.],\n",
            "        [1.]])\n"
          ]
        }
      ]
    },
    {
      "cell_type": "markdown",
      "source": [
        "2. Ініціюйте ваги `w`, `b` для моделі логістичної регресії потрібної форми зважаючи на розмірності даних випадковими значеннями з нормального розподілу. Лишаю тут код для фіксації `random_seed`."
      ],
      "metadata": {
        "id": "iKzbJKfOgGV8"
      }
    },
    {
      "cell_type": "code",
      "source": [
        "torch.random.manual_seed(1)"
      ],
      "metadata": {
        "id": "aXhKw6Tdj1-d",
        "colab": {
          "base_uri": "https://localhost:8080/"
        },
        "outputId": "314d5de4-e88d-43f2-955c-d735a4f27e59"
      },
      "execution_count": 4,
      "outputs": [
        {
          "output_type": "execute_result",
          "data": {
            "text/plain": [
              "<torch._C.Generator at 0x78fcac434bf0>"
            ]
          },
          "metadata": {},
          "execution_count": 4
        }
      ]
    },
    {
      "cell_type": "code",
      "source": [
        "num_features = 3\n",
        "w = torch.randn(num_features, 1)\n",
        "b = torch.randn(1)\n",
        "print(\"Weights w:\\n\", w)\n",
        "print(\"Bias b:\\n\", b)"
      ],
      "metadata": {
        "id": "eApcB7eb6h9o",
        "colab": {
          "base_uri": "https://localhost:8080/"
        },
        "outputId": "203b1ea1-7ec3-499e-e27b-4ccb1dc2f4e0"
      },
      "execution_count": 5,
      "outputs": [
        {
          "output_type": "stream",
          "name": "stdout",
          "text": [
            "Weights w:\n",
            " tensor([[0.6614],\n",
            "        [0.2669],\n",
            "        [0.0617]])\n",
            "Bias b:\n",
            " tensor([0.6213])\n"
          ]
        }
      ]
    },
    {
      "cell_type": "markdown",
      "source": [
        "3. Напишіть функцію `model`, яка буде обчислювати функцію гіпотези в логістичній регресії і дозволяти робити передбачення на основі введеного рядка даних і коефіцієнтів в змінних `w`, `b`.\n",
        "\n",
        "  **Важливий момент**, що функція `model` робить обчислення на `torch.tensors`, тож для математичних обчислень використовуємо фукнціонал `torch`, наприклад:\n",
        "  - обчсилення $e^x$: `torch.exp(x)`\n",
        "  - обчсилення $log(x)$: `torch.log(x)`\n",
        "  - обчислення середнього значення вектору `x`: `torch.mean(x)`\n",
        "\n",
        "  Використайте функцію `model` для обчислення передбачень з поточними значеннями `w`, `b`.Виведіть результат обчислень на екран.\n",
        "\n",
        "  Проаналізуйте передбачення. Чи не викликають вони у вас підозр? І якщо викликають, то чим це може бути зумовлено?"
      ],
      "metadata": {
        "id": "nYGxNGTaf5s6"
      }
    },
    {
      "cell_type": "code",
      "source": [
        "def model(x, w, b):\n",
        "  z = torch.matmul(x, w) + b\n",
        "  y_hat = 1 / (1 + torch.exp(-z))\n",
        "  return y_hat\n",
        "\n",
        "predictions = model(inputs_tensor, w, b)\n",
        "print(predictions)"
      ],
      "metadata": {
        "id": "pSz2j4Fh6jBv",
        "colab": {
          "base_uri": "https://localhost:8080/"
        },
        "outputId": "d54190df-8fe7-431d-af78-96e5a72aff14"
      },
      "execution_count": 6,
      "outputs": [
        {
          "output_type": "stream",
          "name": "stdout",
          "text": [
            "tensor([[1.],\n",
            "        [1.],\n",
            "        [1.],\n",
            "        [1.],\n",
            "        [1.]])\n"
          ]
        }
      ]
    },
    {
      "cell_type": "markdown",
      "source": [
        "Всі передбачення = 1. Так може бути тому, що модель ще не навчена"
      ],
      "metadata": {
        "id": "ef2LBKMh2Y5W"
      }
    },
    {
      "cell_type": "markdown",
      "source": [
        "4. Напишіть функцію `binary_cross_entropy`, яка приймає на вхід передбачення моделі `predicted_probs` та справжні мітки в даних `true_labels` і обчислює значення втрат (loss)  за формулою бінарної крос-ентропії для кожного екземпляра та вертає середні втрати по всьому набору даних.\n",
        "  Використайте функцію `binary_cross_entropy` для обчислення втрат для поточних передбачень моделі."
      ],
      "metadata": {
        "id": "O2AGM0Mb2yHa"
      }
    },
    {
      "cell_type": "code",
      "source": [
        "def binary_cross_entropy(predicted_probs, true_labels):\n",
        "  eps = 1e-5\n",
        "  predicted_probs = torch.clamp(predicted_probs, eps, 1 - eps)\n",
        "  bce_loss = - (true_labels * torch.log(predicted_probs) + (1 - true_labels) * torch.log(1 - predicted_probs))\n",
        "  return torch.mean(bce_loss)\n",
        "\n",
        "loss = binary_cross_entropy(predictions, targets_tensor)\n",
        "print(\"Binary Cross-Entropy Loss:\", loss.item())"
      ],
      "metadata": {
        "id": "1bWlovvx6kZS",
        "colab": {
          "base_uri": "https://localhost:8080/"
        },
        "outputId": "987287c3-37d0-4401-cdb4-0252496f3cd9"
      },
      "execution_count": 7,
      "outputs": [
        {
          "output_type": "stream",
          "name": "stdout",
          "text": [
            "Binary Cross-Entropy Loss: 4.604633331298828\n"
          ]
        }
      ]
    },
    {
      "cell_type": "markdown",
      "source": [
        "5. Зробіть зворотнє поширення помилки і виведіть градієнти за параметрами `w`, `b`. Проаналізуйте їх значення. Як гадаєте, чому вони саме такі?"
      ],
      "metadata": {
        "id": "ZFKpQxdHi1__"
      }
    },
    {
      "cell_type": "code",
      "source": [
        "w = torch.randn(3, 1, requires_grad=True)\n",
        "b = torch.randn(1, requires_grad=True)\n",
        "predictions = model(inputs_tensor, w, b)\n",
        "loss = binary_cross_entropy(predictions, targets_tensor)\n",
        "loss.backward()\n",
        "print(\"Gradients for w:\\n\", w.grad)\n",
        "print(\"Gradients for b:\\n\", b.grad)"
      ],
      "metadata": {
        "id": "YAbXUNSJ6mCl",
        "colab": {
          "base_uri": "https://localhost:8080/"
        },
        "outputId": "0728729f-f356-4f35-a65b-fabe8b1ef36b"
      },
      "execution_count": 8,
      "outputs": [
        {
          "output_type": "stream",
          "name": "stdout",
          "text": [
            "Gradients for w:\n",
            " tensor([[nan],\n",
            "        [nan],\n",
            "        [nan]])\n",
            "Gradients for b:\n",
            " tensor([nan])\n"
          ]
        }
      ]
    },
    {
      "cell_type": "markdown",
      "source": [
        "**Що сталось?**\n",
        "\n",
        "В цій задачі, коли ми ініціювали значення випадковими значеннями з нормального розподілу, насправді ці значення не були дуже гарними стартовими значеннями і привели до того, що градієнти стали дуже малими або навіть рівними нулю (це призводить до того, що градієнти \"зникають\"), і відповідно при оновленні ваг у нас не буде нічого змінюватись. Це називається `gradient vanishing`. Це відбувається через **насичення сигмоїдної функції активації.**\n",
        "\n",
        "У нашій задачі ми використовуємо сигмоїдну функцію активації, яка має такий вигляд:\n",
        "\n",
        "   $$\n",
        "   \\sigma(z) = \\frac{1}{1 + e^{-z}}\n",
        "   $$\n",
        "\n",
        "\n",
        "Коли значення $z$ дуже велике або дуже мале, сигмоїдна функція починає \"насичуватись\". Це означає, що для великих позитивних $z$ сигмоїда наближається до 1, а для великих негативних — до 0. В цих діапазонах градієнти починають стрімко зменшуватись і наближаються до нуля (бо градієнт - це похідна, похідна на проміжку функції, де вона паралельна осі ОХ, дорівнює 0), що робить оновлення ваг неможливим.\n",
        "\n",
        "![](https://editor.analyticsvidhya.com/uploads/27889vaegp.png)\n",
        "\n",
        "У логістичній регресії $ z = x \\cdot w + b $. Якщо ваги $w, b$ - великі, значення $z$ також буде великим, і сигмоїда перейде в насичену область, де градієнти дуже малі.\n",
        "\n",
        "Саме це сталося в нашій задачі, де великі випадкові значення ваг викликали насичення сигмоїдної функції. Це в свою чергу призводить до того, що під час зворотного поширення помилки (backpropagation) модель оновлює ваги дуже повільно або зовсім не оновлює. Це називається проблемою **зникнення градієнтів** (gradient vanishing problem).\n",
        "\n",
        "**Що ж робити?**\n",
        "Ініціювати ваги маленькими значеннями навколо нуля. Наприклад ми можемо просто в існуючій ініціалізації ваги розділити на 1000. Можна також використати інший спосіб ініціалізації вагів - інформація про це [тут](https://www.geeksforgeeks.org/initialize-weights-in-pytorch/).\n",
        "\n",
        "Як це робити - показую нижче. **Виконайте код та знову обчисліть передбачення, лосс і виведіть градієнти.**\n",
        "\n",
        "А я пишу пояснення, чому просто не зробити\n",
        "\n",
        "```\n",
        "w = torch.randn(1, 3, requires_grad=True)/1000\n",
        "b = torch.randn(1, requires_grad=True)/1000\n",
        "```\n",
        "\n",
        "Нам потрібно, аби тензори вагів були листовими (leaf tensors).\n",
        "\n",
        "1. **Що таке листовий тензор**\n",
        "Листовий тензор — це тензор, який був створений користувачем безпосередньо і з якого починається обчислювальний граф. Якщо такий тензор має `requires_grad=True`, PyTorch буде відслідковувати всі операції, виконані над ним, щоб правильно обчислювати градієнти під час навчання.\n",
        "\n",
        "2. **Чому ми використовуємо `w.data` замість звичайних операцій**\n",
        "Якщо ми просто виконали б операції, такі як `(w - 0.5) / 100`, ми б отримали **новий тензор**, який вже не був би листовим тензором, оскільки ці операції створюють **новий** тензор, а не модифікують існуючий.\n",
        "\n",
        "  Проте, щоб залишити наші тензори ваги `w` та зміщення `b` листовими і продовжити можливість відстеження градієнтів під час тренування, ми використовуємо атрибут `.data`. Цей атрибут дозволяє **виконувати операції in-place (прямо на існуючому тензорі)** без зміни самого об'єкта тензора. Отже, тензор залишається листовим, і PyTorch може коректно обчислювати його градієнти.\n",
        "\n",
        "3. **Чому важливо залишити тензор листовим**\n",
        "Якщо тензор більше не є листовим (наприклад, через проведення операцій, що створюють нові тензори), ви не зможете отримати градієнти за допомогою `w.grad` чи `b.grad` після виклику `loss.backward()`. Це може призвести до втрати можливості оновлення параметрів під час тренування моделі. В нашому випадку ми хочемо, щоб тензори `w` та `b` накопичували градієнти, тому вони повинні залишатись листовими.\n",
        "\n",
        "**Висновок:**\n",
        "Ми використовуємо `.data`, щоб виконати операції зміни значень на ваги і зміщення **in-place**, залишаючи їх листовими тензорами, які можуть накопичувати градієнти під час навчання. Це дозволяє коректно працювати механізму зворотного поширення помилки (backpropagation) і оновлювати ваги моделі."
      ],
      "metadata": {
        "id": "nDN1t1RujQsK"
      }
    },
    {
      "cell_type": "markdown",
      "source": [
        "5. Виконайте код та знову обчисліть передбачення, лосс і знайдіть градієнти та виведіть всі ці тензори на екран."
      ],
      "metadata": {
        "id": "rOPSQyttpVjO"
      }
    },
    {
      "cell_type": "code",
      "source": [
        "torch.random.manual_seed(1)\n",
        "w = torch.randn(1, 3, requires_grad=True)  # Листовий тензор\n",
        "b = torch.randn(1, requires_grad=True)     # Листовий тензор\n",
        "\n",
        "# in-place операції\n",
        "w.data = w.data / 1000\n",
        "b.data = b.data / 1000\n",
        "\n",
        "predictions_new = model(inputs_tensor, w.T, b)\n",
        "loss_new = binary_cross_entropy(predictions_new, targets_tensor)\n",
        "loss_new.backward()\n",
        "print(\"Predictions:\\n\", predictions_new)\n",
        "print(\"\\nLoss:\\n\", loss_new.item())\n",
        "print(\"\\nGradients для w:\\n\", w.grad)\n",
        "print(\"\\nGradients для b:\\n\", b.grad)"
      ],
      "metadata": {
        "id": "-EBOJ3tsnRaD",
        "colab": {
          "base_uri": "https://localhost:8080/"
        },
        "outputId": "ba8da436-6823-4151-c470-b1218676b2b9"
      },
      "execution_count": 9,
      "outputs": [
        {
          "output_type": "stream",
          "name": "stdout",
          "text": [
            "Predictions:\n",
            " tensor([[0.5174],\n",
            "        [0.5220],\n",
            "        [0.5244],\n",
            "        [0.5204],\n",
            "        [0.5190]], grad_fn=<MulBackward0>)\n",
            "\n",
            "Loss:\n",
            " 0.6829456686973572\n",
            "\n",
            "Gradients для w:\n",
            " tensor([[ -5.4417, -18.9853, -10.0682]])\n",
            "\n",
            "Gradients для b:\n",
            " tensor([-0.0794])\n"
          ]
        }
      ]
    },
    {
      "cell_type": "markdown",
      "source": [
        "6. Напишіть алгоритм градієнтного спуску, який буде навчати модель з використанням написаних раніше функцій і виконуючи оновлення ваг. Алгоритм має включати наступні кроки:\n",
        "\n",
        "  1. Генерація прогнозів\n",
        "  2. Обчислення втрат\n",
        "  3. Обчислення градієнтів (gradients) loss-фукнції відносно ваг і зсувів\n",
        "  4. Налаштування ваг шляхом віднімання невеликої величини, пропорційної градієнту (`learning_rate` домножений на градієнт)\n",
        "  5. Скидання градієнтів на нуль\n",
        "\n",
        "Виконайте градієнтний спуск протягом 1000 епох, обчисліть фінальні передбачення і проаналізуйте, чи вони точні?"
      ],
      "metadata": {
        "id": "RCdi44IT334o"
      }
    },
    {
      "cell_type": "code",
      "source": [
        "# генерація прогнозів\n",
        "preds = model(inputs_tensor, w.T, b)\n",
        "print(preds)"
      ],
      "metadata": {
        "id": "mObHPyE06qsO",
        "colab": {
          "base_uri": "https://localhost:8080/"
        },
        "outputId": "3c0d2c78-da9d-4585-e750-0df6dadf6e5b"
      },
      "execution_count": 17,
      "outputs": [
        {
          "output_type": "stream",
          "name": "stdout",
          "text": [
            "tensor([[0.5174],\n",
            "        [0.5220],\n",
            "        [0.5244],\n",
            "        [0.5204],\n",
            "        [0.5190]], grad_fn=<MulBackward0>)\n"
          ]
        }
      ]
    },
    {
      "cell_type": "code",
      "source": [
        "# обчислення втрат\n",
        "def mse(t1, t2):\n",
        "    diff = t1 - t2\n",
        "    return torch.sum(diff * diff) / diff.numel()\n",
        "targets_torch = torch.from_numpy(targets).to(preds.dtype)\n",
        "loss = mse(preds, targets_torch)\n",
        "print(loss)"
      ],
      "metadata": {
        "colab": {
          "base_uri": "https://localhost:8080/"
        },
        "id": "dUGs0Civw9iS",
        "outputId": "3410b414-c2c7-4928-c5c2-414edd82298f"
      },
      "execution_count": 18,
      "outputs": [
        {
          "output_type": "stream",
          "name": "stdout",
          "text": [
            "tensor(0.2449, grad_fn=<DivBackward0>)\n"
          ]
        }
      ]
    },
    {
      "cell_type": "code",
      "source": [
        "# Обчислення градієнтів\n",
        "loss.backward()\n",
        "print(\"\\nGradients для w:\\n\", w.grad)"
      ],
      "metadata": {
        "id": "9FznTWPxw9ew",
        "colab": {
          "base_uri": "https://localhost:8080/"
        },
        "outputId": "98f07fc9-e290-49d7-93c4-0760ac14b43b"
      },
      "execution_count": 19,
      "outputs": [
        {
          "output_type": "stream",
          "name": "stdout",
          "text": [
            "\n",
            "Gradients для w:\n",
            " tensor([[-10.8641, -37.9264, -20.1134]])\n"
          ]
        }
      ]
    },
    {
      "cell_type": "code",
      "source": [
        "with torch.no_grad():\n",
        "    w -= w.grad * 1e-5\n",
        "    b -= b.grad * 1e-5\n",
        "    w.grad.zero_()\n",
        "    b.grad.zero_()\n",
        "print(w)"
      ],
      "metadata": {
        "colab": {
          "base_uri": "https://localhost:8080/"
        },
        "id": "TY9XqRo4K0Pg",
        "outputId": "8f8c6335-2252-4b1c-a2dc-362ecb4b216e"
      },
      "execution_count": 21,
      "outputs": [
        {
          "output_type": "stream",
          "name": "stdout",
          "text": [
            "tensor([[0.0008, 0.0006, 0.0003]], requires_grad=True)\n"
          ]
        }
      ]
    },
    {
      "cell_type": "code",
      "source": [
        "preds = model(inputs_tensor, w.T, b)\n",
        "targets_torch = torch.from_numpy(targets).to(preds.dtype)\n",
        "loss = mse(preds, targets_torch)\n",
        "print(loss)"
      ],
      "metadata": {
        "colab": {
          "base_uri": "https://localhost:8080/"
        },
        "id": "RPsIfJWJK8cx",
        "outputId": "ef20f9bf-0e7b-4df7-e7d3-176eaeb11930"
      },
      "execution_count": 27,
      "outputs": [
        {
          "output_type": "stream",
          "name": "stdout",
          "text": [
            "tensor(0.2402, grad_fn=<DivBackward0>)\n"
          ]
        }
      ]
    },
    {
      "cell_type": "code",
      "source": [
        "# Тренування протягом 1000 епох\n",
        "for i in range(1000):\n",
        "    preds = model(inputs_tensor, w.T, b)\n",
        "    targets_torch = torch.from_numpy(targets).to(preds.dtype)\n",
        "    loss = mse(preds, targets_torch)\n",
        "    loss.backward()\n",
        "    with torch.no_grad():\n",
        "        w -= w.grad * 1e-5\n",
        "        b -= b.grad * 1e-5\n",
        "        w.grad.zero_()\n",
        "        b.grad.zero_()\n",
        "\n",
        "preds = model(inputs_tensor, w.T, b)\n",
        "targets_torch = torch.from_numpy(targets).to(preds.dtype)\n",
        "loss = mse(preds, targets_torch)\n",
        "print(loss)"
      ],
      "metadata": {
        "colab": {
          "base_uri": "https://localhost:8080/"
        },
        "id": "j75I8WCZK8S3",
        "outputId": "98db3032-751b-4ea2-ded2-69061ac69eac"
      },
      "execution_count": 29,
      "outputs": [
        {
          "output_type": "stream",
          "name": "stdout",
          "text": [
            "tensor(0.1269, grad_fn=<DivBackward0>)\n"
          ]
        }
      ]
    },
    {
      "cell_type": "code",
      "source": [
        "preds"
      ],
      "metadata": {
        "colab": {
          "base_uri": "https://localhost:8080/"
        },
        "id": "ean7OIuIMFtu",
        "outputId": "17c6755f-00b6-4b8b-b7cc-83775cb74f41"
      },
      "execution_count": 30,
      "outputs": [
        {
          "output_type": "execute_result",
          "data": {
            "text/plain": [
              "tensor([[0.5716],\n",
              "        [0.6329],\n",
              "        [0.8222],\n",
              "        [0.2982],\n",
              "        [0.7709]], grad_fn=<MulBackward0>)"
            ]
          },
          "metadata": {},
          "execution_count": 30
        }
      ]
    },
    {
      "cell_type": "code",
      "source": [
        "targets_torch"
      ],
      "metadata": {
        "colab": {
          "base_uri": "https://localhost:8080/"
        },
        "id": "XSxmsDeLMEul",
        "outputId": "978adb24-36a6-497b-fd9b-ccfb545fe3ba"
      },
      "execution_count": 31,
      "outputs": [
        {
          "output_type": "execute_result",
          "data": {
            "text/plain": [
              "tensor([[0.],\n",
              "        [1.],\n",
              "        [1.],\n",
              "        [0.],\n",
              "        [1.]])"
            ]
          },
          "metadata": {},
          "execution_count": 31
        }
      ]
    },
    {
      "cell_type": "markdown",
      "source": [
        "4 передбачення із 5 є точними (точність 80%)"
      ],
      "metadata": {
        "id": "eLGGg1a5MQs9"
      }
    },
    {
      "cell_type": "markdown",
      "source": [
        "**Секція 2. Створення лог регресії з використанням функціоналу `torch.nn`.**\n",
        "\n",
        "Давайте повторно реалізуємо ту ж модель, використовуючи деякі вбудовані функції та класи з PyTorch.\n",
        "\n",
        "Даних у нас буде побільше - тож, визначаємо нові масиви."
      ],
      "metadata": {
        "id": "fuRhlyF9qAia"
      }
    },
    {
      "cell_type": "code",
      "source": [
        "# Вхідні дані (temp, rainfall, humidity)\n",
        "inputs = np.array([[73, 67, 43],\n",
        "                   [91, 88, 64],\n",
        "                   [87, 134, 58],\n",
        "                   [102, 43, 37],\n",
        "                   [69, 96, 70],\n",
        "                   [73, 67, 43],\n",
        "                   [91, 88, 64],\n",
        "                   [87, 134, 58],\n",
        "                   [102, 43, 37],\n",
        "                   [69, 96, 70],\n",
        "                   [73, 67, 43],\n",
        "                   [91, 88, 64],\n",
        "                   [87, 134, 58],\n",
        "                   [102, 43, 37],\n",
        "                   [69, 96, 70]], dtype='float32')\n",
        "\n",
        "# Таргети (apples > 80)\n",
        "targets = np.array([[0],\n",
        "                    [1],\n",
        "                    [1],\n",
        "                    [0],\n",
        "                    [1],\n",
        "                    [0],\n",
        "                    [1],\n",
        "                    [1],\n",
        "                    [0],\n",
        "                    [1],\n",
        "                    [0],\n",
        "                    [1],\n",
        "                    [1],\n",
        "                    [0],\n",
        "                    [1]], dtype='float32')"
      ],
      "metadata": {
        "id": "IX8Bhm74rV4M"
      },
      "execution_count": 54,
      "outputs": []
    },
    {
      "cell_type": "markdown",
      "source": [
        "7. Завантажте вхідні дані та мітки в PyTorch тензори та з них створіть датасет, який поєднує вхідні дані з мітками, використовуючи клас `TensorDataset`. Виведіть перші 3 елементи в датасеті.\n",
        "\n"
      ],
      "metadata": {
        "id": "7X2dV30KtAPu"
      }
    },
    {
      "cell_type": "code",
      "source": [
        "from torch.utils.data import TensorDataset\n",
        "inputs_tensor = torch.from_numpy(inputs)\n",
        "targets_tensor = torch.from_numpy(targets)\n",
        "train_ds = TensorDataset(inputs_tensor, targets_tensor)\n",
        "train_ds[0:3]"
      ],
      "metadata": {
        "id": "chrvMfBs6vjo",
        "colab": {
          "base_uri": "https://localhost:8080/"
        },
        "outputId": "f2ee78ca-675f-4a03-b5ad-55241fdac357"
      },
      "execution_count": 55,
      "outputs": [
        {
          "output_type": "execute_result",
          "data": {
            "text/plain": [
              "(tensor([[ 73.,  67.,  43.],\n",
              "         [ 91.,  88.,  64.],\n",
              "         [ 87., 134.,  58.]]),\n",
              " tensor([[0.],\n",
              "         [1.],\n",
              "         [1.]]))"
            ]
          },
          "metadata": {},
          "execution_count": 55
        }
      ]
    },
    {
      "cell_type": "markdown",
      "source": [
        "8. Визначте data loader з класом **DataLoader** для підготовленого датасету `train_ds`, встановіть розмір батчу на 5 та увімкніть перемішування даних для ефективного навчання моделі. Виведіть перший елемент в дата лоадері."
      ],
      "metadata": {
        "id": "4nMFaa8suOd3"
      }
    },
    {
      "cell_type": "code",
      "source": [
        "from torch.utils.data import DataLoader\n",
        "batch_size = 5\n",
        "train_dl = DataLoader(train_ds, batch_size, shuffle=True)\n",
        "next(iter(train_dl))"
      ],
      "metadata": {
        "id": "ZCsRo5Mx6wEI",
        "colab": {
          "base_uri": "https://localhost:8080/"
        },
        "outputId": "b192d532-b926-4e70-f03a-704c4c9b2eb1"
      },
      "execution_count": 56,
      "outputs": [
        {
          "output_type": "execute_result",
          "data": {
            "text/plain": [
              "[tensor([[102.,  43.,  37.],\n",
              "         [ 73.,  67.,  43.],\n",
              "         [ 91.,  88.,  64.],\n",
              "         [102.,  43.,  37.],\n",
              "         [ 87., 134.,  58.]]),\n",
              " tensor([[0.],\n",
              "         [0.],\n",
              "         [1.],\n",
              "         [0.],\n",
              "         [1.]])]"
            ]
          },
          "metadata": {},
          "execution_count": 56
        }
      ]
    },
    {
      "cell_type": "markdown",
      "source": [
        "9. Створіть клас `LogReg` для логістичної регресії, наслідуючи модуль `torch.nn.Module` за прикладом в лекції (в частині про FeedForward мережі).\n",
        "\n",
        "  У нас модель складається з лінійної комбінації вхідних значень і застосування фукнції сигмоїда. Тож, нейромережа буде складатись з лінійного шару `nn.Linear` і використання активації `nn.Sigmid`. У створеному класі мають бути реалізовані методи `__init__` з ініціалізацією шарів і метод `forward` для виконання прямого проходу моделі через лінійний шар і функцію активації.\n",
        "\n",
        "  Створіть екземпляр класу `LogReg` в змінній `model`."
      ],
      "metadata": {
        "id": "ymcQOo_hum6I"
      }
    },
    {
      "cell_type": "code",
      "source": [
        "import torch.nn.functional as F\n",
        "import torch.nn as nn\n",
        "\n",
        "class LogReg(nn.Module):\n",
        "    def __init__(self):\n",
        "        super().__init__()\n",
        "        self.linear = nn.Linear(3, 1)\n",
        "        self.sigmoid = nn.Sigmoid()\n",
        "\n",
        "    def forward(self, x):\n",
        "        x = self.linear(x)\n",
        "        x = self.sigmoid(x)\n",
        "        return x\n",
        "\n",
        "model = LogReg()"
      ],
      "metadata": {
        "id": "EyAwhTBW6xxz"
      },
      "execution_count": 57,
      "outputs": []
    },
    {
      "cell_type": "markdown",
      "source": [
        "10. Задайте оптимізатор `Stockastic Gradient Descent` в змінній `opt` для навчання моделі логістичної регресії. А також визначіть в змінній `loss` функцію втрат `binary_cross_entropy` з модуля `torch.nn.functional` для обчислення втрат моделі. Обчисліть втрати для поточних передбачень і міток, а потім виведіть їх. Зробіть висновок, чи моделі вдалось навчитись?"
      ],
      "metadata": {
        "id": "RflV7xeVyoJy"
      }
    },
    {
      "cell_type": "code",
      "source": [
        "opt = torch.optim.SGD(model.parameters(), lr=0.01)\n",
        "loss_fn = F.binary_cross_entropy\n",
        "inputs_tensor = torch.from_numpy(inputs).float()\n",
        "inputs_tensor = (inputs_tensor - inputs_tensor.mean(0)) / inputs_tensor.std(0) # нормалізація\n",
        "targets_tensor = torch.from_numpy(targets).float()\n",
        "preds = model(inputs_tensor)\n",
        "loss_value = loss_fn(preds, targets_tensor)\n",
        "print(loss_value.item())"
      ],
      "metadata": {
        "id": "3QCATPU_6yfa",
        "colab": {
          "base_uri": "https://localhost:8080/"
        },
        "outputId": "adc69116-1715-4fda-ec50-22ab026bcee2"
      },
      "execution_count": 58,
      "outputs": [
        {
          "output_type": "stream",
          "name": "stdout",
          "text": [
            "0.7763237357139587\n"
          ]
        }
      ]
    },
    {
      "cell_type": "markdown",
      "source": [
        "Моделі не вдалося навчитися, оскільки значення loss стало вище"
      ],
      "metadata": {
        "id": "EgrP5dZOW0Vg"
      }
    },
    {
      "cell_type": "markdown",
      "source": [
        "11. Візьміть з лекції функцію для тренування моделі з відстеженням значень втрат і навчіть щойно визначену модель на 1000 епохах. Виведіть після цього графік зміни loss, фінальні передбачення і значення таргетів."
      ],
      "metadata": {
        "id": "ch-WrYnKzMzq"
      }
    },
    {
      "cell_type": "code",
      "source": [
        "import matplotlib.pyplot as plt\n",
        "\n",
        "# Нормалізація\n",
        "inputs_tensor = torch.from_numpy(inputs).float()\n",
        "inputs_tensor = (inputs_tensor - inputs_tensor.mean(0)) / inputs_tensor.std(0)\n",
        "targets_tensor = torch.from_numpy(targets).float()\n",
        "\n",
        "train_ds = TensorDataset(inputs_tensor, targets_tensor)\n",
        "train_dl = DataLoader(train_ds, batch_size=5, shuffle=True)\n",
        "\n",
        "def fit_return_loss(num_epochs, model, loss_fn, opt, train_dl):\n",
        "    losses = []\n",
        "    for epoch in range(num_epochs):\n",
        "        total_loss = 0\n",
        "        for xb, yb in train_dl:\n",
        "            pred = model(xb)\n",
        "            loss = loss_fn(pred, yb)\n",
        "            loss.backward()\n",
        "            opt.step()\n",
        "            opt.zero_grad()\n",
        "            total_loss += loss.item()\n",
        "        avg_loss = total_loss / len(train_dl)\n",
        "        losses.append(avg_loss)\n",
        "        if (epoch + 1) % 10 == 0:\n",
        "            print(f'Epoch [{epoch+1}/{num_epochs}], Loss: {avg_loss:.4f}')\n",
        "    return losses\n",
        "\n",
        "losses = fit_return_loss(1000, model, loss_fn, opt, train_dl)\n",
        "plt.plot(losses)\n",
        "plt.xlabel(\"Епоха\")\n",
        "plt.ylabel(\"Loss (Binary Cross Entropy)\")\n",
        "plt.title(\"Зміна loss під час навчання\")\n",
        "plt.show()\n"
      ],
      "metadata": {
        "id": "cEHQH9qE626k",
        "colab": {
          "base_uri": "https://localhost:8080/",
          "height": 1000
        },
        "outputId": "7e7c3cc0-7ad2-4744-c77d-74dc5f4bd423"
      },
      "execution_count": 59,
      "outputs": [
        {
          "output_type": "stream",
          "name": "stdout",
          "text": [
            "Epoch [10/1000], Loss: 0.6614\n",
            "Epoch [20/1000], Loss: 0.5628\n",
            "Epoch [30/1000], Loss: 0.4864\n",
            "Epoch [40/1000], Loss: 0.4263\n",
            "Epoch [50/1000], Loss: 0.3787\n",
            "Epoch [60/1000], Loss: 0.3407\n",
            "Epoch [70/1000], Loss: 0.3089\n",
            "Epoch [80/1000], Loss: 0.2828\n",
            "Epoch [90/1000], Loss: 0.2609\n",
            "Epoch [100/1000], Loss: 0.2420\n",
            "Epoch [110/1000], Loss: 0.2257\n",
            "Epoch [120/1000], Loss: 0.2115\n",
            "Epoch [130/1000], Loss: 0.1990\n",
            "Epoch [140/1000], Loss: 0.1879\n",
            "Epoch [150/1000], Loss: 0.1779\n",
            "Epoch [160/1000], Loss: 0.1690\n",
            "Epoch [170/1000], Loss: 0.1609\n",
            "Epoch [180/1000], Loss: 0.1536\n",
            "Epoch [190/1000], Loss: 0.1469\n",
            "Epoch [200/1000], Loss: 0.1407\n",
            "Epoch [210/1000], Loss: 0.1350\n",
            "Epoch [220/1000], Loss: 0.1298\n",
            "Epoch [230/1000], Loss: 0.1250\n",
            "Epoch [240/1000], Loss: 0.1205\n",
            "Epoch [250/1000], Loss: 0.1163\n",
            "Epoch [260/1000], Loss: 0.1124\n",
            "Epoch [270/1000], Loss: 0.1087\n",
            "Epoch [280/1000], Loss: 0.1053\n",
            "Epoch [290/1000], Loss: 0.1021\n",
            "Epoch [300/1000], Loss: 0.0990\n",
            "Epoch [310/1000], Loss: 0.0962\n",
            "Epoch [320/1000], Loss: 0.0935\n",
            "Epoch [330/1000], Loss: 0.0909\n",
            "Epoch [340/1000], Loss: 0.0885\n",
            "Epoch [350/1000], Loss: 0.0862\n",
            "Epoch [360/1000], Loss: 0.0840\n",
            "Epoch [370/1000], Loss: 0.0819\n",
            "Epoch [380/1000], Loss: 0.0799\n",
            "Epoch [390/1000], Loss: 0.0780\n",
            "Epoch [400/1000], Loss: 0.0763\n",
            "Epoch [410/1000], Loss: 0.0745\n",
            "Epoch [420/1000], Loss: 0.0729\n",
            "Epoch [430/1000], Loss: 0.0713\n",
            "Epoch [440/1000], Loss: 0.0698\n",
            "Epoch [450/1000], Loss: 0.0683\n",
            "Epoch [460/1000], Loss: 0.0670\n",
            "Epoch [470/1000], Loss: 0.0656\n",
            "Epoch [480/1000], Loss: 0.0643\n",
            "Epoch [490/1000], Loss: 0.0631\n",
            "Epoch [500/1000], Loss: 0.0619\n",
            "Epoch [510/1000], Loss: 0.0608\n",
            "Epoch [520/1000], Loss: 0.0597\n",
            "Epoch [530/1000], Loss: 0.0586\n",
            "Epoch [540/1000], Loss: 0.0576\n",
            "Epoch [550/1000], Loss: 0.0566\n",
            "Epoch [560/1000], Loss: 0.0556\n",
            "Epoch [570/1000], Loss: 0.0547\n",
            "Epoch [580/1000], Loss: 0.0538\n",
            "Epoch [590/1000], Loss: 0.0529\n",
            "Epoch [600/1000], Loss: 0.0521\n",
            "Epoch [610/1000], Loss: 0.0512\n",
            "Epoch [620/1000], Loss: 0.0504\n",
            "Epoch [630/1000], Loss: 0.0497\n",
            "Epoch [640/1000], Loss: 0.0489\n",
            "Epoch [650/1000], Loss: 0.0482\n",
            "Epoch [660/1000], Loss: 0.0475\n",
            "Epoch [670/1000], Loss: 0.0468\n",
            "Epoch [680/1000], Loss: 0.0462\n",
            "Epoch [690/1000], Loss: 0.0455\n",
            "Epoch [700/1000], Loss: 0.0449\n",
            "Epoch [710/1000], Loss: 0.0443\n",
            "Epoch [720/1000], Loss: 0.0437\n",
            "Epoch [730/1000], Loss: 0.0431\n",
            "Epoch [740/1000], Loss: 0.0425\n",
            "Epoch [750/1000], Loss: 0.0420\n",
            "Epoch [760/1000], Loss: 0.0414\n",
            "Epoch [770/1000], Loss: 0.0409\n",
            "Epoch [780/1000], Loss: 0.0404\n",
            "Epoch [790/1000], Loss: 0.0399\n",
            "Epoch [800/1000], Loss: 0.0394\n",
            "Epoch [810/1000], Loss: 0.0389\n",
            "Epoch [820/1000], Loss: 0.0385\n",
            "Epoch [830/1000], Loss: 0.0380\n",
            "Epoch [840/1000], Loss: 0.0376\n",
            "Epoch [850/1000], Loss: 0.0372\n",
            "Epoch [860/1000], Loss: 0.0367\n",
            "Epoch [870/1000], Loss: 0.0363\n",
            "Epoch [880/1000], Loss: 0.0359\n",
            "Epoch [890/1000], Loss: 0.0355\n",
            "Epoch [900/1000], Loss: 0.0351\n",
            "Epoch [910/1000], Loss: 0.0348\n",
            "Epoch [920/1000], Loss: 0.0344\n",
            "Epoch [930/1000], Loss: 0.0340\n",
            "Epoch [940/1000], Loss: 0.0337\n",
            "Epoch [950/1000], Loss: 0.0333\n",
            "Epoch [960/1000], Loss: 0.0330\n",
            "Epoch [970/1000], Loss: 0.0326\n",
            "Epoch [980/1000], Loss: 0.0323\n",
            "Epoch [990/1000], Loss: 0.0320\n",
            "Epoch [1000/1000], Loss: 0.0317\n"
          ]
        },
        {
          "output_type": "display_data",
          "data": {
            "text/plain": [
              "<Figure size 640x480 with 1 Axes>"
            ],
            "image/png": "[encoded data removed]"
          },
          "metadata": {}
        }
      ]
    },
    {
      "cell_type": "code",
      "source": [
        "final_preds = model(inputs_tensor)\n",
        "print(\"Фінальні передбачення:\")\n",
        "print(final_preds.detach().numpy())\n",
        "\n",
        "print(\"Таргети:\")\n",
        "print(targets_tensor.numpy())"
      ],
      "metadata": {
        "colab": {
          "base_uri": "https://localhost:8080/"
        },
        "id": "b-DhSk9TZnbo",
        "outputId": "22a2777a-015d-4976-a2df-c3e061f40f47"
      },
      "execution_count": 62,
      "outputs": [
        {
          "output_type": "stream",
          "name": "stdout",
          "text": [
            "Фінальні передбачення:\n",
            "[[0.05338515]\n",
            " [0.9448346 ]\n",
            " [0.98651636]\n",
            " [0.01051226]\n",
            " [0.977693  ]\n",
            " [0.05338515]\n",
            " [0.9448346 ]\n",
            " [0.98651636]\n",
            " [0.01051226]\n",
            " [0.977693  ]\n",
            " [0.05338515]\n",
            " [0.9448346 ]\n",
            " [0.98651636]\n",
            " [0.01051226]\n",
            " [0.977693  ]]\n",
            "Таргети:\n",
            "[[0.]\n",
            " [1.]\n",
            " [1.]\n",
            " [0.]\n",
            " [1.]\n",
            " [0.]\n",
            " [1.]\n",
            " [1.]\n",
            " [0.]\n",
            " [1.]\n",
            " [0.]\n",
            " [1.]\n",
            " [1.]\n",
            " [0.]\n",
            " [1.]]\n"
          ]
        }
      ]
    }
  ]
}