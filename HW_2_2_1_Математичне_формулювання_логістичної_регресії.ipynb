{
  "nbformat": 4,
  "nbformat_minor": 0,
  "metadata": {
    "colab": {
      "provenance": []
    },
    "kernelspec": {
      "name": "python3",
      "display_name": "Python 3"
    },
    "language_info": {
      "name": "python"
    }
  },
  "cells": [
    {
      "cell_type": "markdown",
      "source": [
        "В цьому домашньому завданні ми реалізуємо логістичну регресію на `numpy`.\n",
        "Ці завдання допоможуть вам ґрунтовно засвоїти основні концепції логістичної регресії та реалізувати їх на практиці 🔥\n",
        "\n",
        "#### Завдання 1: Реалізація функції сигмоїди\n",
        "1. З використанням `numpy` напишіть функцію `sigmoid(z)` для обчислення значення сигмоїди згідно з формулою:\n",
        "   $$\n",
        "   \\sigma(z) = \\frac{1}{1 + e^{-z}}\n",
        "   $$\n",
        "2. Використовуючи цю функцію, обчисліть значення сигмоїди для наступних даних: $ z = [-2, -1, 0, 1, 2] $. Виведіть результат обчислень.\n"
      ],
      "metadata": {
        "id": "KxRmdyv5CIZe"
      }
    },
    {
      "cell_type": "code",
      "source": [
        "import numpy as np"
      ],
      "metadata": {
        "id": "v9ilfXulL2wP"
      },
      "execution_count": 1,
      "outputs": []
    },
    {
      "cell_type": "code",
      "source": [
        "def sigmoid(z):\n",
        "    return 1 / (1 + np.exp(-z))\n",
        "\n",
        "data = [-2, -1, 0, 1, 2]\n",
        "for i in data:\n",
        "  result = sigmoid(i)\n",
        "  print(result)\n"
      ],
      "metadata": {
        "colab": {
          "base_uri": "https://localhost:8080/"
        },
        "id": "szBmmHb3FlGQ",
        "outputId": "7589058a-305e-4419-e55e-3112ea4c01c5"
      },
      "execution_count": 2,
      "outputs": [
        {
          "output_type": "stream",
          "name": "stdout",
          "text": [
            "0.11920292202211755\n",
            "0.2689414213699951\n",
            "0.5\n",
            "0.7310585786300049\n",
            "0.8807970779778823\n"
          ]
        }
      ]
    },
    {
      "cell_type": "markdown",
      "source": [
        "\n",
        "\n",
        "#### Завдання 2: Реалізація функції гіпотези для логістичної регресії\n",
        "1. Напишіть функцію `hypothesis(theta, X)`, яка обчислює гіпотезу для логістичної регресії, використовуючи функцію сигмоїди. Формула гіпотези:\n",
        "   $$\n",
        "   h_\\theta(x) = \\sigma(\\theta^T x) = \\frac{1}{1 + e^{-\\theta^T x}}\n",
        "   $$\n",
        "2. Використайте функцію `hypothesis` для обчислення значень гіпотези для наступних даних:\n",
        "   \n",
        "   $\\theta = [0.5, -0.5]$\n",
        "   \n",
        "   $X = \\begin{bmatrix} 1 & 2 \\\\ 1 & -1 \\\\ 1 & 0 \\\\ 1 & 1 \\end{bmatrix}$\n",
        "\n",
        "  Виведіть результат обчислень.\n"
      ],
      "metadata": {
        "id": "LVd_jCGNCR1F"
      }
    },
    {
      "cell_type": "code",
      "source": [
        "def hypothesis(theta, X):\n",
        "    return sigmoid(np.dot(X, theta))\n",
        "\n",
        "theta = np.array([0.5, -0.5])\n",
        "X = np.array([\n",
        "    [1, 2],\n",
        "    [1, -1],\n",
        "    [1, 0],\n",
        "    [1, 1]\n",
        "])\n",
        "hypothesis(theta, X)"
      ],
      "metadata": {
        "id": "dKDHv-YtL3TA",
        "colab": {
          "base_uri": "https://localhost:8080/"
        },
        "outputId": "9eeb965f-3986-4858-b05a-ad082371766a"
      },
      "execution_count": 6,
      "outputs": [
        {
          "output_type": "execute_result",
          "data": {
            "text/plain": [
              "array([0.37754067, 0.73105858, 0.62245933, 0.5       ])"
            ]
          },
          "metadata": {},
          "execution_count": 6
        }
      ]
    },
    {
      "cell_type": "markdown",
      "source": [
        "#### Завдання 3: Реалізація функції для підрахунку градієнтів фукнції втрат\n",
        "1. Напишіть функцію `compute_gradient(theta, X, y)`, яка обчислює градієнти функції втрат для логістичної регресії. Формула для обчислення градієнта:\n",
        "   $$\n",
        "   \\frac{\\partial L(\\theta)}{\\partial \\theta_j} = \\frac{1}{m} \\sum_{i=1}^{m} \\left[ (h_\\theta(x^{(i)}) - y^{(i)}) x_j^{(i)} \\right]\n",
        "   $$\n",
        "2. Використайте функцію `compute_gradient` для обчислення градієнтів для наступних даних:\n",
        "\n",
        "  $\\theta = [0.5, -0.5]$\n",
        "\n",
        "  $X = \\begin{bmatrix} 1 & 2 \\\\ 1 & -1 \\\\ 1 & 0 \\\\ 1 & 1 \\end{bmatrix}$\n",
        "\n",
        "  $y = [1, 0, 1, 0]$\n",
        "\n",
        "  Виведіть результат обчислень."
      ],
      "metadata": {
        "id": "MWASH4Z4ClTo"
      }
    },
    {
      "cell_type": "code",
      "source": [
        "def compute_gradient(theta, X, y):\n",
        "    m = X.shape[0]\n",
        "    predictions = hypothesis(theta, X)\n",
        "    error = predictions - y\n",
        "    gradient = (1 / m) * np.dot(X.T, error)\n",
        "    return gradient\n",
        "\n",
        "y = np.array([1, 0, 1, 0])\n",
        "compute_gradient(theta, X, y)"
      ],
      "metadata": {
        "id": "0DM4xqZCL32i",
        "colab": {
          "base_uri": "https://localhost:8080/"
        },
        "outputId": "045b8f80-2840-4edf-f8e0-1ab3c1ee8713"
      },
      "execution_count": 7,
      "outputs": [
        {
          "output_type": "execute_result",
          "data": {
            "text/plain": [
              "array([ 0.05776464, -0.36899431])"
            ]
          },
          "metadata": {},
          "execution_count": 7
        }
      ]
    },
    {
      "cell_type": "markdown",
      "source": [
        "\n",
        "#### Завдання 4: Реалізація повного батч градієнтного спуску\n",
        "\n",
        "**Задача:**\n",
        "1. Напишіть функцію `full_batch_gradient_descent(X, y, lr=0.1, epochs=100)`, яка реалізує алгоритм Full градієнтного спуску для логістичної регресії. Використовуйте такі формули:\n",
        "   - Гіпотеза: $ h_\\theta(x) = \\sigma(\\theta^T x) $\n",
        "   - Оновлення параметрів: $ \\theta_j := \\theta_j - \\alpha \\frac{\\partial L(\\theta)}{\\partial \\theta_j} $\n",
        "2. Використайте функцію `full_batch_gradient_descent` для обчислення параметрів моделі на наступних даних:\n",
        "\n",
        "  $X = \\begin{bmatrix} 1 & 2 \\\\ 1 & -1 \\\\ 1 & 0 \\\\ 1 & 1 \\end{bmatrix}$\n",
        "\n",
        "  $y = [1, 0, 1, 0]$\n",
        "\n",
        "  Увага! Матриця $X$ вже має стовпець одиниць і передбачається, що це. - стовпець для intercept - параметра зсуву.\n",
        "\n",
        "  Виведіть результат обчислень.\n"
      ],
      "metadata": {
        "id": "nOtJEtdnC1K9"
      }
    },
    {
      "cell_type": "code",
      "source": [
        "def full_batch_gradient_descent(X, y, lr=0.1, epochs=100):\n",
        "    n = X.shape[1]\n",
        "    theta = np.zeros(n)\n",
        "    for i in range(epochs):\n",
        "        grad = compute_gradient(theta, X, y)\n",
        "        theta = theta - lr * grad\n",
        "    return theta\n",
        "\n",
        "full_batch_gradient_descent(X, y, lr=0.1, epochs=100)"
      ],
      "metadata": {
        "id": "fHtUOTxXL4Yy",
        "colab": {
          "base_uri": "https://localhost:8080/"
        },
        "outputId": "9e75d7ab-87ad-48d2-925a-ce0c2a6e16cf"
      },
      "execution_count": 8,
      "outputs": [
        {
          "output_type": "execute_result",
          "data": {
            "text/plain": [
              "array([-0.2893693 ,  0.77655125])"
            ]
          },
          "metadata": {},
          "execution_count": 8
        }
      ]
    },
    {
      "cell_type": "markdown",
      "source": [
        "#### Завдання 5. Обчислення точності моделі\n",
        "\n",
        "1. Напишіть функцію `predict_proba(theta, X)`, яка використовує знайдені параметри $\\theta$ для обчислення ймовірностей належності поточного прикладу з даних до класу $y=1$ на основі значень $\\sigma(\\theta^T x)$.\n",
        "\n",
        "2. Напишіть функцію `predict(theta, X, threshold=0.5)`, яка обчислює клас з передбаченої імовірності належності екземпляра до класу 1 з порогом 0.5. Тобто якщо ймовірність менше 0.5, то передбачаємо клас 0, інакше клас 1.\n",
        "\n",
        "3. Напишіть функцію `accuracy(y_true, y_pred)`, яка обчислює точність моделі, визначивши частку правильно передбачених класів.\n",
        "\n",
        "  Формула метрики Accuracy:\n",
        "  $$\n",
        "  \\text{Accuracy} = \\frac{\\sum_{i=1}^{m} I(\\hat{{y}^{(i)}} = y^{(i)})}{m}\n",
        "  $$\n",
        "\n",
        "  де $\\hat{{y}^{(i)}}$ - передбачене значення класу, $I$ - індикаторна функція (яка дорівнює 1, якщо умова виконується, і 0 - якщо ні), $m$ - кількість прикладів.\n",
        "\n",
        "4. Обчисліть з використанням даних в завданні 4 $X$, $y$ та обчислених коефіцієнтах $\\theta$ та виведіть на екран:\n",
        "  - передбачені моделлю імовірності належності кожного з екземплярів в матриці `X` до класу 1\n",
        "  - класи кожного екземпляра з матриці `X`\n",
        "  - точність моделі."
      ],
      "metadata": {
        "id": "E4iZV55cE5f3"
      }
    },
    {
      "cell_type": "code",
      "source": [
        "def predict_proba(theta, X):\n",
        "    return 1 / (1 + np.exp(-np.dot(X, theta)))\n",
        "\n",
        "def predict(theta, X, threshold=0.5):\n",
        "    probs = predict_proba(theta, X)\n",
        "    return (probs >= threshold).astype(int)\n",
        "\n",
        "def accuracy(y_true, y_pred):\n",
        "    return np.mean(y_true == y_pred)\n",
        "\n",
        "predict_proba(theta, X)"
      ],
      "metadata": {
        "id": "85ZZfPtjrsai",
        "colab": {
          "base_uri": "https://localhost:8080/"
        },
        "outputId": "271e2c5c-0557-4ab8-eb75-e3072e115f72"
      },
      "execution_count": 11,
      "outputs": [
        {
          "output_type": "execute_result",
          "data": {
            "text/plain": [
              "array([0.37754067, 0.73105858, 0.62245933, 0.5       ])"
            ]
          },
          "metadata": {},
          "execution_count": 11
        }
      ]
    },
    {
      "cell_type": "code",
      "source": [
        "predict(theta, X, threshold=0.5)"
      ],
      "metadata": {
        "colab": {
          "base_uri": "https://localhost:8080/"
        },
        "id": "jK2AXYz-NbXn",
        "outputId": "bbeb1189-5f38-4f23-8bb7-ff14994fc3a2"
      },
      "execution_count": 12,
      "outputs": [
        {
          "output_type": "execute_result",
          "data": {
            "text/plain": [
              "array([0, 1, 1, 1])"
            ]
          },
          "metadata": {},
          "execution_count": 12
        }
      ]
    },
    {
      "cell_type": "code",
      "source": [
        "accuracy(y, predict(theta, X, threshold=0.5))"
      ],
      "metadata": {
        "colab": {
          "base_uri": "https://localhost:8080/"
        },
        "id": "Er8OVSdONzqQ",
        "outputId": "0da54176-565b-420a-d74f-b9a214351bf6"
      },
      "execution_count": 13,
      "outputs": [
        {
          "output_type": "execute_result",
          "data": {
            "text/plain": [
              "np.float64(0.25)"
            ]
          },
          "metadata": {},
          "execution_count": 13
        }
      ]
    },
    {
      "cell_type": "code",
      "source": [],
      "metadata": {
        "id": "14Zlr4cCN0BZ"
      },
      "execution_count": null,
      "outputs": []
    }
  ]
}